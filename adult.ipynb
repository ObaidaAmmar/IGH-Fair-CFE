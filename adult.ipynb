{
 "cells": [
  {
   "cell_type": "markdown",
   "metadata": {},
   "source": [
    "# Import Necessary Libraries"
   ]
  },
  {
   "cell_type": "code",
   "execution_count": null,
   "metadata": {},
   "outputs": [],
   "source": [
    "import pandas as pd \n",
    "import numpy as np\n",
    "import seaborn as sns\n",
    "import pickle\n",
    "import matplotlib.pyplot as plt\n",
    "from sklearn.model_selection import train_test_split\n",
    "from sklearn.preprocessing import LabelEncoder\n",
    "from sklearn.naive_bayes import GaussianNB\n",
    "from sklearn.ensemble import RandomForestClassifier\n",
    "from sklearn.metrics import accuracy_score, confusion_matrix, classification_report\n",
    "import shap\n",
    "from Explainer import *"
   ]
  },
  {
   "cell_type": "markdown",
   "metadata": {},
   "source": [
    "# Load Dataset"
   ]
  },
  {
   "cell_type": "code",
   "execution_count": 2,
   "metadata": {},
   "outputs": [],
   "source": [
    "data = pd.read_csv(\"Adult/Dataset/adult.csv\")"
   ]
  },
  {
   "cell_type": "markdown",
   "metadata": {},
   "source": [
    "# Explore Dataset"
   ]
  },
  {
   "cell_type": "code",
   "execution_count": null,
   "metadata": {},
   "outputs": [],
   "source": [
    "data.head()"
   ]
  },
  {
   "cell_type": "code",
   "execution_count": null,
   "metadata": {},
   "outputs": [],
   "source": [
    "data.info()"
   ]
  },
  {
   "cell_type": "code",
   "execution_count": null,
   "metadata": {},
   "outputs": [],
   "source": [
    "data.describe()"
   ]
  },
  {
   "cell_type": "markdown",
   "metadata": {},
   "source": [
    "# Data Preprocessing"
   ]
  },
  {
   "cell_type": "code",
   "execution_count": 6,
   "metadata": {},
   "outputs": [],
   "source": [
    "data = data.replace('?', np.nan)"
   ]
  },
  {
   "cell_type": "code",
   "execution_count": 7,
   "metadata": {},
   "outputs": [],
   "source": [
    "# Drop Missing Values\n",
    "data.dropna(how='any', inplace=True)"
   ]
  },
  {
   "cell_type": "code",
   "execution_count": 8,
   "metadata": {},
   "outputs": [],
   "source": [
    "data.drop_duplicates(inplace=True)"
   ]
  },
  {
   "cell_type": "code",
   "execution_count": 9,
   "metadata": {},
   "outputs": [],
   "source": [
    "data['income']= data['income'].replace({'<=50K':0, '>50K':1})"
   ]
  },
  {
   "cell_type": "code",
   "execution_count": 10,
   "metadata": {},
   "outputs": [],
   "source": [
    "# Only 2 subrgoups in Race, White and Other \n",
    "# Other subgroup represents Black, Asian-Pac-Islander, Amer-Indian-Eskimo and Other\n",
    "data['race'] = data['race'].apply(lambda x: 0 if x == 'White' else 1)"
   ]
  },
  {
   "cell_type": "code",
   "execution_count": null,
   "metadata": {},
   "outputs": [],
   "source": [
    "race_counts = data['race'].value_counts()\n",
    "print(\"Race distribution:\\n\", race_counts)\n",
    "sns.countplot(x='race', data=data)\n",
    "plt.title('Race Distribution')\n",
    "plt.show()"
   ]
  },
  {
   "cell_type": "code",
   "execution_count": null,
   "metadata": {},
   "outputs": [],
   "source": [
    "gender_counts = data['gender'].value_counts()\n",
    "print(\"Gender distribution:\\n\", gender_counts)\n",
    "sns.countplot(x='gender', data=data)\n",
    "plt.title('Gender Distribution')\n",
    "plt.show()"
   ]
  },
  {
   "cell_type": "code",
   "execution_count": 13,
   "metadata": {},
   "outputs": [],
   "source": [
    "# Encode Gender, Male = 0 / Female = 1\n",
    "data['gender'] = data['gender'].apply(lambda x: 0 if x == 'Male' else 1)\n",
    "data.rename(columns={'gender': 'sex'}, inplace=True)"
   ]
  },
  {
   "cell_type": "code",
   "execution_count": 14,
   "metadata": {},
   "outputs": [],
   "source": [
    "label_encoder = LabelEncoder()\n",
    "data['workclass'] = label_encoder.fit_transform(data['workclass'])\n",
    "data['education'] = label_encoder.fit_transform(data['education'])\n",
    "data['marital-status'] = label_encoder.fit_transform(data['marital-status'])\n",
    "data['occupation'] = label_encoder.fit_transform(data['occupation'])\n",
    "data['relationship'] = label_encoder.fit_transform(data['relationship'])\n",
    "data['native-country'] = label_encoder.fit_transform(data['native-country'])"
   ]
  },
  {
   "cell_type": "code",
   "execution_count": null,
   "metadata": {},
   "outputs": [],
   "source": [
    "# Group the data by gender and outcome\n",
    "grouped = data.groupby(['race', 'income']).size().unstack(fill_value=0)\n",
    "\n",
    "# Create a bar plot\n",
    "grouped.plot(kind='bar', figsize=(8, 6))\n",
    "\n",
    "# Set plot labels and title\n",
    "plt.title('Outcome Distribution by Gender')\n",
    "plt.xlabel('sex')\n",
    "plt.ylabel('Count')\n",
    "plt.xticks(rotation=0) # Rotate x-axis labels for readability\n",
    "plt.legend(title='Income', labels=['Income <= 50K', 'Income > 50K'])"
   ]
  },
  {
   "cell_type": "markdown",
   "metadata": {},
   "source": [
    "# Split the data into Training and Testing"
   ]
  },
  {
   "cell_type": "code",
   "execution_count": 16,
   "metadata": {},
   "outputs": [],
   "source": [
    "X = data.drop('income', axis=1)\n",
    "y = data['income']\n",
    "X_train, X_test, y_train, y_test = train_test_split(X, y, test_size=0.20, random_state=40, stratify=y)"
   ]
  },
  {
   "cell_type": "markdown",
   "metadata": {},
   "source": [
    "# Random Forest Classifier"
   ]
  },
  {
   "cell_type": "code",
   "execution_count": 12,
   "metadata": {},
   "outputs": [],
   "source": [
    "# Train from scratch\n",
    "# naiveModel = RandomForestClassifier(max_depth=15, max_features='sqrt', min_samples_leaf=2, min_samples_split=5, n_estimators=200) #max_depth=15, max_features='sqrt', min_samples_leaf=2, min_samples_split=5, n_estimators=200\n",
    "# naiveModel.fit(X_train,y_train) #X_train_balanced,y_train_balanced\n",
    "# y_pred = naiveModel.predict(X_test)"
   ]
  },
  {
   "cell_type": "code",
   "execution_count": null,
   "metadata": {},
   "outputs": [],
   "source": [
    "# # Load the trained model\n",
    "filename = 'random_forest_classifier.sav'\n",
    "naiveModel = pickle.load(open('Adult/Models/'+filename, 'rb'))\n",
    "y_pred = naiveModel.predict(X_test)"
   ]
  },
  {
   "cell_type": "code",
   "execution_count": null,
   "metadata": {},
   "outputs": [],
   "source": [
    "# # Save the trained model\n",
    "# pickle.dump(naiveModel, open('Adult/Models/'+filename, 'wb'))"
   ]
  },
  {
   "cell_type": "markdown",
   "metadata": {},
   "source": [
    "# Prediction Report"
   ]
  },
  {
   "cell_type": "code",
   "execution_count": null,
   "metadata": {},
   "outputs": [],
   "source": [
    "print(classification_report(y_test, y_pred))\n",
    "print(accuracy_score(y_test,y_pred))\n",
    "confusion = confusion_matrix(y_test, y_pred)\n",
    "print(confusion)\n",
    "sns.heatmap(confusion, annot=True, fmt=\".2f\")"
   ]
  },
  {
   "cell_type": "markdown",
   "metadata": {},
   "source": [
    "# Test Model Fairness"
   ]
  },
  {
   "cell_type": "code",
   "execution_count": 19,
   "metadata": {},
   "outputs": [],
   "source": [
    "# fairlearn\n",
    "from fairlearn.metrics import (\n",
    "    false_positive_rate,\n",
    "    false_negative_rate,\n",
    "    true_positive_rate,\n",
    "    MetricFrame,\n",
    "    equalized_odds_difference,\n",
    "    demographic_parity_difference,\n",
    ")\n",
    "\n",
    "def score(\n",
    "    y_train,\n",
    "    y_train_pred,\n",
    "    y_test,\n",
    "    y_test_pred,\n",
    "    sensitive_features_train,\n",
    "    sensitive_features_test,\n",
    "    metrics={\"accuracy\": accuracy_score, \"fpr\": false_positive_rate, \"fnr\": false_negative_rate,},\n",
    "):\n",
    "    \"\"\"\n",
    "    Helper function to evaluate classifiers without too much repetition of code.\n",
    "    \"\"\"\n",
    "\n",
    "    # training set\n",
    "    mf_train = MetricFrame(\n",
    "        metrics=metrics,\n",
    "        y_true=y_train,\n",
    "        y_pred=y_train_pred,\n",
    "        sensitive_features=sensitive_features_train,\n",
    "    )\n",
    "\n",
    "    # test set\n",
    "    mf_test = MetricFrame(\n",
    "        metrics=metrics,\n",
    "        y_true=y_test,\n",
    "        y_pred=y_test_pred,\n",
    "        sensitive_features=sensitive_features_test,\n",
    "    )\n",
    "\n",
    "    # display results\n",
    "    display(\n",
    "        pd.concat(\n",
    "            [mf_train.by_group, mf_test.by_group], keys=[\"train\", \"test\"]\n",
    "        ).unstack(level=0)\n",
    "    )\n",
    "\n",
    "    # compute metrics\n",
    "    print(\n",
    "        \"equalized odds (test): %.2f\"\n",
    "        % equalized_odds_difference(\n",
    "            y_true=y_test,\n",
    "            y_pred=y_test_pred,\n",
    "            sensitive_features=sensitive_features_test,\n",
    "        )\n",
    "    )\n",
    "    \n",
    "    print(\n",
    "        \"demographic parity (test): %.2f\"\n",
    "        % demographic_parity_difference(\n",
    "            y_true=y_test,\n",
    "            y_pred=y_test_pred,\n",
    "            sensitive_features=sensitive_features_test,\n",
    "        )\n",
    "    )\n",
    "\n",
    "    print(\"accuracy (test): %.2f\" % accuracy_score(y_true=y_test, y_pred=y_test_pred))\n",
    "    return"
   ]
  },
  {
   "cell_type": "code",
   "execution_count": null,
   "metadata": {},
   "outputs": [],
   "source": [
    "score(\n",
    "    y_train,\n",
    "    naiveModel.predict(X_train),\n",
    "    y_test,\n",
    "    naiveModel.predict(X_test),\n",
    "    X_train[\"race\"],\n",
    "    X_test[\"race\"],\n",
    ")"
   ]
  },
  {
   "cell_type": "markdown",
   "metadata": {},
   "source": [
    "# UnFairness Mitigation"
   ]
  },
  {
   "cell_type": "markdown",
   "metadata": {},
   "source": [
    "#### In Process Using Exponentiated Gradient"
   ]
  },
  {
   "cell_type": "code",
   "execution_count": null,
   "metadata": {},
   "outputs": [],
   "source": [
    "# from fairlearn.reductions import ExponentiatedGradient, DemographicParity, EqualizedOdds, TruePositiveRateParity\n",
    "\n",
    "# constraint = EqualizedOdds()\n",
    "# rf = RandomForestClassifier()\n",
    "\n",
    "# fair_model = ExponentiatedGradient(rf, constraints=constraint)\n",
    "# fair_model.fit(X_train, y_train, sensitive_features=X_train[['race']])\n",
    "# y_pred_fair = fair_model.predict(X_test)"
   ]
  },
  {
   "cell_type": "markdown",
   "metadata": {},
   "source": [
    "# Fair Model Report"
   ]
  },
  {
   "cell_type": "code",
   "execution_count": null,
   "metadata": {},
   "outputs": [],
   "source": [
    "# score(\n",
    "#     y_train,\n",
    "#     fair_model.predict(X_train),\n",
    "#     y_test,\n",
    "#     fair_model.predict(X_test),\n",
    "#     X_train[\"race\"],\n",
    "#     X_test[\"race\"],\n",
    "# )"
   ]
  },
  {
   "cell_type": "markdown",
   "metadata": {},
   "source": [
    "# Log Output to a Separate File"
   ]
  },
  {
   "cell_type": "code",
   "execution_count": 21,
   "metadata": {},
   "outputs": [],
   "source": [
    "import sys\n",
    "path = './log3.txt'\n",
    "sys.stdout = open(path, 'w')"
   ]
  },
  {
   "cell_type": "markdown",
   "metadata": {},
   "source": [
    "# Retrieve the Affected Dataset"
   ]
  },
  {
   "cell_type": "code",
   "execution_count": null,
   "metadata": {},
   "outputs": [],
   "source": [
    "# Find instances where the model predicted target class 0\n",
    "predicted_target_0_instances = X_test[y_pred == 0]\n",
    "print(predicted_target_0_instances['race'].value_counts())\n",
    "\n",
    "# Save the filtered instances to a new dataset\n",
    "predicted_target_0_instances.to_csv('Adult/Dataset/predicted_target_0_instances.csv', index=False)"
   ]
  },
  {
   "cell_type": "markdown",
   "metadata": {},
   "source": [
    "# Test Which Features are Influencing the Prediction"
   ]
  },
  {
   "cell_type": "code",
   "execution_count": null,
   "metadata": {},
   "outputs": [],
   "source": [
    "# shap_explainer = shap.Explainer(naiveModel)\n",
    "# shap_values = shap_explainer.shap_values(X_train_balanced)\n",
    "# shap.summary_plot(shap_values, X_train_balanced, feature_names=data.columns)"
   ]
  },
  {
   "cell_type": "markdown",
   "metadata": {},
   "source": [
    "# Group the affected instances into clusters"
   ]
  },
  {
   "cell_type": "code",
   "execution_count": null,
   "metadata": {},
   "outputs": [],
   "source": [
    "# Decompose the dataset into clusters\n",
    "from sklearn.cluster import KMeans\n",
    "\n",
    "def decompose_into_clusters(affected_dataset, n_clusters=3, random_state=42):\n",
    "    \n",
    "    if not isinstance(affected_dataset, pd.DataFrame):\n",
    "        affected_dataset = pd.DataFrame(affected_dataset)\n",
    "\n",
    "    # Apply K-Means clustering\n",
    "    kmeans = KMeans(n_clusters=n_clusters, random_state=random_state)\n",
    "    cluster_labels = kmeans.fit_predict(affected_dataset)\n",
    "\n",
    "    # Add the cluster labels to the original dataset\n",
    "    clustered_dataset = affected_dataset.copy()\n",
    "    clustered_dataset['Cluster'] = cluster_labels\n",
    "\n",
    "    return clustered_dataset, kmeans\n",
    "\n",
    "def get_cluster_dataframes(clustered_dataset):\n",
    "    \n",
    "    # Group the dataset by cluster and create separate DataFrames\n",
    "    cluster_dataframes = {\n",
    "        cluster_label: clustered_dataset[clustered_dataset['Cluster'] == cluster_label].drop(columns=['Cluster'])\n",
    "        for cluster_label in clustered_dataset['Cluster'].unique()\n",
    "    }\n",
    "\n",
    "    return cluster_dataframes\n",
    "\n",
    "affected_dataset = predicted_target_0_instances\n",
    "clustered_data, kmeans_model = decompose_into_clusters(affected_dataset, n_clusters=3)\n",
    "cluster_dfs = get_cluster_dataframes(clustered_data)\n",
    "\n",
    "for cluster_label, df in cluster_dfs.items():\n",
    "    df.to_csv(f\"Adult/Dataset/cluster_{cluster_label}.csv\", index=False)"
   ]
  },
  {
   "cell_type": "markdown",
   "metadata": {},
   "source": [
    "# RL Agent Training"
   ]
  },
  {
   "cell_type": "code",
   "execution_count": null,
   "metadata": {},
   "outputs": [],
   "source": [
    "dataset = data #whole dataset \n",
    "# For affected_dataset, you can load and pass the clusters created in previous step or pass the whole affected dataset \"predicted_target_0_instances\"\n",
    "cluster = pd.read_csv(\"Adult/Dataset/cluster_2.csv\") \n",
    "affected_dataset = cluster\n",
    "model = naiveModel   #naiveModel\n",
    "target = 1\n",
    "protected_attribute = \"race\"\n",
    "features_to_change = [\"capital-gain\", \"hours-per-week\", \"educational-num\"]\n",
    "number_of_counterfactuals = 4\n",
    "minimums = [0, 1, 1] # Minimum values for the features to change\n",
    "maximums = [99999, 99, 16] # Maximum values for the features to change\n",
    "features_types = [\"con\", \"con\", \"ord\"] # Pass \"con\" for continuous features, \"cat\" for categorical, \"ord\" for ordinal\n",
    "macro = False # If you wish to optimize for \"EF-Macro\" or \"ECR\", pass True, else False\n",
    "action_effectiveness = 0.6 # Used for ECR fairness metric (the action is considered effective if the proportion of individuals who achieve recourse through it is greater than 0.6)\n",
    "\n",
    "# For fairness_metrics\n",
    "# if you wish to test (Equal Effectiveness) Pass \"EF\" (if macro set macro variable to True else if micro set macro variable to False)\n",
    "# if you wish to test (Equal Choice for Recourse) Pass \"ECR\" (set macro variable to True)\n",
    "# if you wish to test both (Equal Effectiveness) and (Equal Choice for Recourse) Pass \"EF-ECR\" (set macro variable to False)\n",
    "fairness_metrics = \"EF\" \n",
    "\n",
    "explainer = Explainer(dataset, affected_dataset, model, protected_attribute, features_to_change, features_types, number_of_counterfactuals, target, minimums, maximums, macro, action_effectiveness, fairness_metrics)\n",
    "explainer.train()\n",
    "\n",
    "x, y = explainer.plot()\n",
    "plt.show()\n",
    "plt.plot(x, y)\n",
    "plt.xlabel(\"Number of Timesteps\")\n",
    "plt.ylabel(\"Rewards\")\n",
    "plt.title(\"Learning Curve\" + \" Smoothed\")\n",
    "plt.show()\n",
    "\n",
    "cfs = explainer.report_counterfactuals()\n",
    "print(cfs)"
   ]
  },
  {
   "cell_type": "code",
   "execution_count": null,
   "metadata": {},
   "outputs": [],
   "source": [
    "cfs = explainer.report_counterfactuals()\n",
    "# save the generated set of actions (CFs)\n",
    "cfs.to_csv('Adult/Fair CF/EF/fair_cf_1(micro).csv', index=False)"
   ]
  },
  {
   "cell_type": "markdown",
   "metadata": {},
   "source": [
    "# For Post Processing"
   ]
  },
  {
   "cell_type": "code",
   "execution_count": null,
   "metadata": {},
   "outputs": [],
   "source": [
    "# to check the validity of the generated CFs\n",
    "\n",
    "from GeneralEnv import GeneralEnv\n",
    "\n",
    "dataset = data # whole dataset\n",
    "# For affected_dataset, you can load and pass the clusters created in previous step or pass the whole affected dataset \"predicted_target_0_instances\"\n",
    "cluster = pd.read_csv(\"Adult/Dataset/predicted_target_0_instances.csv\") \n",
    "affected_dataset = cluster\n",
    "model = naiveModel   #naiveModel\n",
    "target = 1\n",
    "protected_attribute = \"race\"\n",
    "features_to_change = [\"capital-gain\", \"hours-per-week\", \"educational-num\"]\n",
    "number_of_counterfactuals = 5\n",
    "minimums = [0, 1, 1] # Minimum values for the features to change\n",
    "maximums = [99999, 99, 16] # Maximum values for the features to change\n",
    "features_types = [\"con\", \"con\", \"ord\"] # Pass \"con\" for continuous features, \"cat\" for categorical, \"ord\" for ordinal\n",
    "macro = False # If you wish to optimize for \"EF-Macro\" or \"ECR\", pass True, else False\n",
    "action_effectiveness = 0.6 # Used for ECR fairness metric (the action is considered effective if the proportion of individuals who achieve recourse through it is greater than 0.6)\n",
    "\n",
    "# For fairness_metrics\n",
    "# if you wish to test (Equal Effectiveness) Pass \"EF\" (if macro set macro variable to True else if micro set macro variable to False)\n",
    "# if you wish to test (Equal Choice for Recourse) Pass \"ECR\" (set macro variable to True)\n",
    "# if you wish to test both (Equal Effectiveness) and (Equal Choice for Recourse) Pass \"EF-ECR\" (set macro variable to False)\n",
    "fairness_metrics = \"EF\" \n",
    "\n",
    "counterfactuals = {}\n",
    "env = GeneralEnv(dataset, affected_dataset, model, 'sklearn', protected_attribute, features_to_change, features_types, number_of_counterfactuals, counterfactuals, target, minimums, maximums, macro, action_effectiveness, fairness_metrics)\n",
    "\n",
    "# set any generated set of CFs to test its results\n",
    "counterfactuals = [[139, 5, 0], [5805, 6, 2], [5110, 10, 0], [5358, 5, 2], [8111, 98, 16]]\n",
    "\n",
    "# for Equal Effectiveness (EF) fairness metric \n",
    "group1_proportion, group2_proportion = env.evaluate_fairness_metric1(counterfactuals, macro)\n",
    "\n",
    "print(f\"Group 1 Proportion: {group1_proportion}\")\n",
    "print(f\"Group 2 Proportion: {group2_proportion}\")\n",
    "\n",
    "# for Equal Choice for Recourse (ECR) fairness metric\n",
    "nb_actions_group1, nb_actions_group2 = env.evaluate_fairness_metric2(counterfactuals, action_effectiveness)\n",
    "\n",
    "print(f\"Nb Actions for Group 1: {nb_actions_group1}\")\n",
    "print(f\"Nb Actions for Group 2: {nb_actions_group2}\")\n",
    "\n",
    "# compute mean gower distance\n",
    "gower = env.compute_gower_distance(affected_dataset, counterfactuals)\n",
    "print(f\"Gower: {gower}\")"
   ]
  }
 ],
 "metadata": {
  "kernelspec": {
   "display_name": "Code-RL",
   "language": "python",
   "name": "python3"
  },
  "language_info": {
   "codemirror_mode": {
    "name": "ipython",
    "version": 3
   },
   "file_extension": ".py",
   "mimetype": "text/x-python",
   "name": "python",
   "nbconvert_exporter": "python",
   "pygments_lexer": "ipython3",
   "version": "3.11.9"
  }
 },
 "nbformat": 4,
 "nbformat_minor": 2
}
